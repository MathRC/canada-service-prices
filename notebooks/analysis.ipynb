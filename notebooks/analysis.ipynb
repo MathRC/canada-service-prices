from plotly.io import write_html
import plotly.express as px

# Example: Export your time series plot
fig = px.line(aespi, x='Date', y='Index Value', 
              color='Region', 
              title='Preliminary View - Work in Progress')
write_html(fig, "docs/plots/time_series.html")

# Export your map (if you have geo data)
if 'geometry' in regions.columns:
    fig_map = px.choropleth(regions, geojson=regions.geometry,
                           locations=regions.index,
                           color='your_data_column')
    write_html(fig_map, "docs/plots/choropleth.html")
